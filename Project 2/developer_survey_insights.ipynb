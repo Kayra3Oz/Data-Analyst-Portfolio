{
 "cells": [
  {
   "metadata": {},
   "cell_type": "markdown",
   "source": [
    "## Overview\n",
    "\n",
    "In this project, we will conduct a data analysis using the Stack Overflow Annual Developer Survey dataset. Our goal is to answer the following questions:\n",
    "\n",
    "1. In which country do developers earn the most?\n",
    "2. How important is remote working for workers?\n",
    "3. How much influence does coding experience have on salary?\n",
    "4. Do individuals with a master's degree have a better chance of securing a job as a developer?"
   ],
   "id": "83dd10df02cfc479"
  },
  {
   "metadata": {
    "ExecuteTime": {
     "end_time": "2024-10-24T19:52:48.579672Z",
     "start_time": "2024-10-24T19:52:46.035715Z"
    }
   },
   "cell_type": "code",
   "source": [
    "from locale import currency\n",
    "\n",
    "import pandas as pd\n",
    "\n",
    "df = pd.read_csv('dataset/survey_results_public.csv')"
   ],
   "id": "2004a1f258461c77",
   "outputs": [],
   "execution_count": 59
  },
  {
   "metadata": {},
   "cell_type": "markdown",
   "source": [
    "### In which country do developers earn the most?\n",
    "First I look for a column that gives me information about the salary"
   ],
   "id": "ed2919c00997617b"
  },
  {
   "metadata": {
    "ExecuteTime": {
     "end_time": "2024-10-24T19:52:50.886645Z",
     "start_time": "2024-10-24T19:52:50.875111Z"
    }
   },
   "cell_type": "code",
   "source": "df['CompTotal'].head()",
   "id": "7f2eba1ed62db4e7",
   "outputs": [
    {
     "data": {
      "text/plain": [
       "0          NaN\n",
       "1     285000.0\n",
       "2     250000.0\n",
       "3     156000.0\n",
       "4    1320000.0\n",
       "Name: CompTotal, dtype: float64"
      ]
     },
     "execution_count": 60,
     "metadata": {},
     "output_type": "execute_result"
    }
   ],
   "execution_count": 60
  },
  {
   "metadata": {},
   "cell_type": "markdown",
   "source": "This column shows us total income. However, these are given in different currencies. I need information about which currency it is.",
   "id": "9f259555614b1a9f"
  },
  {
   "metadata": {
    "ExecuteTime": {
     "end_time": "2024-10-24T19:52:54.631037Z",
     "start_time": "2024-10-24T19:52:54.615785Z"
    }
   },
   "cell_type": "code",
   "source": "df['Currency'].head()",
   "id": "ec21371ae98388c0",
   "outputs": [
    {
     "data": {
      "text/plain": [
       "0                          NaN\n",
       "1    USD\\tUnited States dollar\n",
       "2    USD\\tUnited States dollar\n",
       "3    USD\\tUnited States dollar\n",
       "4         PHP\\tPhilippine peso\n",
       "Name: Currency, dtype: object"
      ]
     },
     "execution_count": 61,
     "metadata": {},
     "output_type": "execute_result"
    }
   ],
   "execution_count": 61
  },
  {
   "metadata": {},
   "cell_type": "markdown",
   "source": [
    "This column can be used to determine which currency it is. We want a uniform result, so we will convert the total earnings into euros.\n",
    "Rows that have no values ​​in one of the two columns are deleted"
   ],
   "id": "a7242126897c6d21"
  },
  {
   "metadata": {
    "ExecuteTime": {
     "end_time": "2024-10-24T19:52:57.451585Z",
     "start_time": "2024-10-24T19:52:57.359868Z"
    }
   },
   "cell_type": "code",
   "source": [
    "# Delete row where is NA in column 'CompTotal' or 'Currency'\n",
    "df = df.dropna(subset=['CompTotal', 'Currency'])\n",
    "\n",
    "# Delete ow where is empty in column 'CompTotal' or Currency\n",
    "df = df[(df['CompTotal'] != '') & (df['Currency'] != '')]"
   ],
   "id": "d729556710db1c61",
   "outputs": [],
   "execution_count": 62
  },
  {
   "metadata": {},
   "cell_type": "markdown",
   "source": [
    "Now we have to convert the values into euros if they are not already in euros.\n",
    "First I change the 'Currency' column so that only the part remains that I need for my conversion"
   ],
   "id": "321381390e73c8f1"
  },
  {
   "metadata": {
    "ExecuteTime": {
     "end_time": "2024-10-24T19:52:59.406485Z",
     "start_time": "2024-10-24T19:52:59.349172Z"
    }
   },
   "cell_type": "code",
   "source": [
    "df['Currency'] = df['Currency'].apply(lambda x: x.strip().split(\"\\t\")[0])\n",
    "df['Currency']"
   ],
   "id": "fd91dcce43629e8f",
   "outputs": [
    {
     "data": {
      "text/plain": [
       "1        USD\n",
       "2        USD\n",
       "3        USD\n",
       "4        PHP\n",
       "5        GBP\n",
       "        ... \n",
       "89175    USD\n",
       "89177    MXN\n",
       "89178    USD\n",
       "89179    BRL\n",
       "89183    IRR\n",
       "Name: Currency, Length: 48225, dtype: object"
      ]
     },
     "execution_count": 63,
     "metadata": {},
     "output_type": "execute_result"
    }
   ],
   "execution_count": 63
  },
  {
   "metadata": {},
   "cell_type": "markdown",
   "source": "I see that it didn't work for EUR. After investigating, I found that the separator here is not a tab but a simple space",
   "id": "ccdd8c698f05a0cb"
  },
  {
   "metadata": {
    "ExecuteTime": {
     "end_time": "2024-10-24T19:53:06.187153Z",
     "start_time": "2024-10-24T19:53:06.147359Z"
    }
   },
   "cell_type": "code",
   "source": [
    "df['Currency'] = df['Currency'].apply(lambda x: x.split(\" \")[0])\n",
    "df['Currency']"
   ],
   "id": "a74cf415e0707ad4",
   "outputs": [
    {
     "data": {
      "text/plain": [
       "1        USD\n",
       "2        USD\n",
       "3        USD\n",
       "4        PHP\n",
       "5        GBP\n",
       "        ... \n",
       "89175    USD\n",
       "89177    MXN\n",
       "89178    USD\n",
       "89179    BRL\n",
       "89183    IRR\n",
       "Name: Currency, Length: 48225, dtype: object"
      ]
     },
     "execution_count": 64,
     "metadata": {},
     "output_type": "execute_result"
    }
   ],
   "execution_count": 64
  },
  {
   "metadata": {},
   "cell_type": "markdown",
   "source": "Now we convert and save the values in a new column",
   "id": "9e5ce349219372ed"
  },
  {
   "metadata": {
    "ExecuteTime": {
     "end_time": "2024-10-24T19:53:11.449507Z",
     "start_time": "2024-10-24T19:53:09.886941Z"
    }
   },
   "cell_type": "code",
   "source": [
    "import requests\n",
    "\n",
    "url_api = 'https://api.exchangerate-api.com/v4/latest/EUR'\n",
    "\n",
    "response = requests.get(url_api)\n",
    "data = response.json()\n",
    "\n",
    "rates = data['rates']\n",
    "\n",
    "def convert_to_euro(currency, value):\n",
    "    if currency in rates:\n",
    "        return value / rates[currency]\n",
    "    else:\n",
    "        return None\n",
    "    \n",
    "df['CompTotal in EUR'] = df.apply(lambda row: convert_to_euro(row['Currency'], row['CompTotal']), axis=1)"
   ],
   "id": "701ffaf192033b76",
   "outputs": [],
   "execution_count": 65
  },
  {
   "metadata": {},
   "cell_type": "markdown",
   "source": "Adjusting the column order",
   "id": "1fc7b4c8fa013986"
  },
  {
   "metadata": {
    "ExecuteTime": {
     "end_time": "2024-10-24T19:53:13.780012Z",
     "start_time": "2024-10-24T19:53:13.767275Z"
    }
   },
   "cell_type": "code",
   "source": [
    "columns = df.columns.tolist()\n",
    "columns"
   ],
   "id": "f9acf583d7e396fb",
   "outputs": [
    {
     "data": {
      "text/plain": [
       "['ResponseId',\n",
       " 'Q120',\n",
       " 'MainBranch',\n",
       " 'Age',\n",
       " 'Employment',\n",
       " 'RemoteWork',\n",
       " 'CodingActivities',\n",
       " 'EdLevel',\n",
       " 'LearnCode',\n",
       " 'LearnCodeOnline',\n",
       " 'LearnCodeCoursesCert',\n",
       " 'YearsCode',\n",
       " 'YearsCodePro',\n",
       " 'DevType',\n",
       " 'OrgSize',\n",
       " 'PurchaseInfluence',\n",
       " 'TechList',\n",
       " 'BuyNewTool',\n",
       " 'Country',\n",
       " 'Currency',\n",
       " 'CompTotal',\n",
       " 'LanguageHaveWorkedWith',\n",
       " 'LanguageWantToWorkWith',\n",
       " 'DatabaseHaveWorkedWith',\n",
       " 'DatabaseWantToWorkWith',\n",
       " 'PlatformHaveWorkedWith',\n",
       " 'PlatformWantToWorkWith',\n",
       " 'WebframeHaveWorkedWith',\n",
       " 'WebframeWantToWorkWith',\n",
       " 'MiscTechHaveWorkedWith',\n",
       " 'MiscTechWantToWorkWith',\n",
       " 'ToolsTechHaveWorkedWith',\n",
       " 'ToolsTechWantToWorkWith',\n",
       " 'NEWCollabToolsHaveWorkedWith',\n",
       " 'NEWCollabToolsWantToWorkWith',\n",
       " 'OpSysPersonal use',\n",
       " 'OpSysProfessional use',\n",
       " 'OfficeStackAsyncHaveWorkedWith',\n",
       " 'OfficeStackAsyncWantToWorkWith',\n",
       " 'OfficeStackSyncHaveWorkedWith',\n",
       " 'OfficeStackSyncWantToWorkWith',\n",
       " 'AISearchHaveWorkedWith',\n",
       " 'AISearchWantToWorkWith',\n",
       " 'AIDevHaveWorkedWith',\n",
       " 'AIDevWantToWorkWith',\n",
       " 'NEWSOSites',\n",
       " 'SOVisitFreq',\n",
       " 'SOAccount',\n",
       " 'SOPartFreq',\n",
       " 'SOComm',\n",
       " 'SOAI',\n",
       " 'AISelect',\n",
       " 'AISent',\n",
       " 'AIAcc',\n",
       " 'AIBen',\n",
       " 'AIToolInterested in Using',\n",
       " 'AIToolCurrently Using',\n",
       " 'AIToolNot interested in Using',\n",
       " 'AINextVery different',\n",
       " 'AINextNeither different nor similar',\n",
       " 'AINextSomewhat similar',\n",
       " 'AINextVery similar',\n",
       " 'AINextSomewhat different',\n",
       " 'TBranch',\n",
       " 'ICorPM',\n",
       " 'WorkExp',\n",
       " 'Knowledge_1',\n",
       " 'Knowledge_2',\n",
       " 'Knowledge_3',\n",
       " 'Knowledge_4',\n",
       " 'Knowledge_5',\n",
       " 'Knowledge_6',\n",
       " 'Knowledge_7',\n",
       " 'Knowledge_8',\n",
       " 'Frequency_1',\n",
       " 'Frequency_2',\n",
       " 'Frequency_3',\n",
       " 'TimeSearching',\n",
       " 'TimeAnswering',\n",
       " 'ProfessionalTech',\n",
       " 'Industry',\n",
       " 'SurveyLength',\n",
       " 'SurveyEase',\n",
       " 'ConvertedCompYearly',\n",
       " 'CompTotal in EUR']"
      ]
     },
     "execution_count": 66,
     "metadata": {},
     "output_type": "execute_result"
    }
   ],
   "execution_count": 66
  },
  {
   "metadata": {},
   "cell_type": "markdown",
   "source": "I copied the list and I'm now changing the order",
   "id": "a8d268de9ced9509"
  },
  {
   "metadata": {
    "ExecuteTime": {
     "end_time": "2024-10-24T19:53:16.660713Z",
     "start_time": "2024-10-24T19:53:16.588902Z"
    }
   },
   "cell_type": "code",
   "source": [
    "new_order = ['ResponseId',\n",
    " 'Q120',\n",
    " 'MainBranch',\n",
    " 'Age',\n",
    " 'Employment',\n",
    " 'RemoteWork',\n",
    " 'CodingActivities',\n",
    " 'EdLevel',\n",
    " 'LearnCode',\n",
    " 'LearnCodeOnline',\n",
    " 'LearnCodeCoursesCert',\n",
    " 'YearsCode',\n",
    " 'YearsCodePro',\n",
    " 'DevType',\n",
    " 'OrgSize',\n",
    " 'PurchaseInfluence',\n",
    " 'TechList',\n",
    " 'BuyNewTool',\n",
    " 'Country',\n",
    " 'Currency',\n",
    " 'CompTotal',\n",
    " 'CompTotal in EUR',            \n",
    " 'LanguageHaveWorkedWith',\n",
    " 'LanguageWantToWorkWith',\n",
    " 'DatabaseHaveWorkedWith',\n",
    " 'DatabaseWantToWorkWith',\n",
    " 'PlatformHaveWorkedWith',\n",
    " 'PlatformWantToWorkWith',\n",
    " 'WebframeHaveWorkedWith',\n",
    " 'WebframeWantToWorkWith',\n",
    " 'MiscTechHaveWorkedWith',\n",
    " 'MiscTechWantToWorkWith',\n",
    " 'ToolsTechHaveWorkedWith',\n",
    " 'ToolsTechWantToWorkWith',\n",
    " 'NEWCollabToolsHaveWorkedWith',\n",
    " 'NEWCollabToolsWantToWorkWith',\n",
    " 'OpSysPersonal use',\n",
    " 'OpSysProfessional use',\n",
    " 'OfficeStackAsyncHaveWorkedWith',\n",
    " 'OfficeStackAsyncWantToWorkWith',\n",
    " 'OfficeStackSyncHaveWorkedWith',\n",
    " 'OfficeStackSyncWantToWorkWith',\n",
    " 'AISearchHaveWorkedWith',\n",
    " 'AISearchWantToWorkWith',\n",
    " 'AIDevHaveWorkedWith',\n",
    " 'AIDevWantToWorkWith',\n",
    " 'NEWSOSites',\n",
    " 'SOVisitFreq',\n",
    " 'SOAccount',\n",
    " 'SOPartFreq',\n",
    " 'SOComm',\n",
    " 'SOAI',\n",
    " 'AISelect',\n",
    " 'AISent',\n",
    " 'AIAcc',\n",
    " 'AIBen',\n",
    " 'AIToolInterested in Using',\n",
    " 'AIToolCurrently Using',\n",
    " 'AIToolNot interested in Using',\n",
    " 'AINextVery different',\n",
    " 'AINextNeither different nor similar',\n",
    " 'AINextSomewhat similar',\n",
    " 'AINextVery similar',\n",
    " 'AINextSomewhat different',\n",
    " 'TBranch',\n",
    " 'ICorPM',\n",
    " 'WorkExp',\n",
    " 'Knowledge_1',\n",
    " 'Knowledge_2',\n",
    " 'Knowledge_3',\n",
    " 'Knowledge_4',\n",
    " 'Knowledge_5',\n",
    " 'Knowledge_6',\n",
    " 'Knowledge_7',\n",
    " 'Knowledge_8',\n",
    " 'Frequency_1',\n",
    " 'Frequency_2',\n",
    " 'Frequency_3',\n",
    " 'TimeSearching',\n",
    " 'TimeAnswering',\n",
    " 'ProfessionalTech',\n",
    " 'Industry',\n",
    " 'SurveyLength',\n",
    " 'SurveyEase',\n",
    " 'ConvertedCompYearly']\n",
    "\n",
    "df = df[new_order]"
   ],
   "id": "7ceb557291c5ea71",
   "outputs": [],
   "execution_count": 67
  },
  {
   "metadata": {},
   "cell_type": "markdown",
   "source": "Now we can compare salaries consistently",
   "id": "9256913905f8c9fb"
  },
  {
   "metadata": {},
   "cell_type": "markdown",
   "source": "",
   "id": "2fa483722c6ea6f1"
  }
 ],
 "metadata": {
  "kernelspec": {
   "display_name": "Python 3",
   "language": "python",
   "name": "python3"
  },
  "language_info": {
   "codemirror_mode": {
    "name": "ipython",
    "version": 2
   },
   "file_extension": ".py",
   "mimetype": "text/x-python",
   "name": "python",
   "nbconvert_exporter": "python",
   "pygments_lexer": "ipython2",
   "version": "2.7.6"
  }
 },
 "nbformat": 4,
 "nbformat_minor": 5
}

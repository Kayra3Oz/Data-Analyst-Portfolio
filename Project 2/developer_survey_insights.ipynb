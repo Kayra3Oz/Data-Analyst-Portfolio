{
 "cells": [
  {
   "metadata": {},
   "cell_type": "markdown",
   "source": [
    "## Overview\n",
    "\n",
    "In this project, we will conduct a data analysis using the Stack Overflow Annual Developer Survey dataset. Our goal is to answer the following questions:\n",
    "\n",
    "1. In which country do developers earn the most?\n",
    "2. How important is remote working for workers?\n",
    "3. How much influence does coding experience have on salary?\n",
    "4. Do individuals with a master's degree have a better chance of securing a job as a developer?"
   ],
   "id": "83dd10df02cfc479"
  },
  {
   "metadata": {
    "ExecuteTime": {
     "end_time": "2024-10-24T20:22:51.911612Z",
     "start_time": "2024-10-24T20:22:49.351259Z"
    }
   },
   "cell_type": "code",
   "source": [
    "from locale import currency\n",
    "\n",
    "import pandas as pd\n",
    "from numpy.lib.shape_base import column_stack\n",
    "\n",
    "df = pd.read_csv('dataset/survey_results_public.csv')"
   ],
   "id": "2004a1f258461c77",
   "outputs": [],
   "execution_count": 70
  },
  {
   "metadata": {},
   "cell_type": "markdown",
   "source": [
    "### In which country do developers earn the most?\n",
    "First I look for a column that gives me information about the salary"
   ],
   "id": "ed2919c00997617b"
  },
  {
   "metadata": {
    "ExecuteTime": {
     "end_time": "2024-10-24T20:22:53.611446Z",
     "start_time": "2024-10-24T20:22:53.595872Z"
    }
   },
   "cell_type": "code",
   "source": "df['CompTotal'].head()",
   "id": "7f2eba1ed62db4e7",
   "outputs": [
    {
     "data": {
      "text/plain": [
       "0          NaN\n",
       "1     285000.0\n",
       "2     250000.0\n",
       "3     156000.0\n",
       "4    1320000.0\n",
       "Name: CompTotal, dtype: float64"
      ]
     },
     "execution_count": 71,
     "metadata": {},
     "output_type": "execute_result"
    }
   ],
   "execution_count": 71
  },
  {
   "metadata": {},
   "cell_type": "markdown",
   "source": "This column shows us total income. However, these are given in different currencies. I need information about which currency it is.",
   "id": "9f259555614b1a9f"
  },
  {
   "metadata": {
    "ExecuteTime": {
     "end_time": "2024-10-24T20:22:59.564243Z",
     "start_time": "2024-10-24T20:22:59.551030Z"
    }
   },
   "cell_type": "code",
   "source": "df['Currency'].head()",
   "id": "ec21371ae98388c0",
   "outputs": [
    {
     "data": {
      "text/plain": [
       "0                          NaN\n",
       "1    USD\\tUnited States dollar\n",
       "2    USD\\tUnited States dollar\n",
       "3    USD\\tUnited States dollar\n",
       "4         PHP\\tPhilippine peso\n",
       "Name: Currency, dtype: object"
      ]
     },
     "execution_count": 72,
     "metadata": {},
     "output_type": "execute_result"
    }
   ],
   "execution_count": 72
  },
  {
   "metadata": {},
   "cell_type": "markdown",
   "source": [
    "This column can be used to determine which currency it is. We want a uniform result, so we will convert the total earnings into euros.\n",
    "Rows that have no values ​​in one of the two columns are deleted"
   ],
   "id": "a7242126897c6d21"
  },
  {
   "metadata": {
    "ExecuteTime": {
     "end_time": "2024-10-24T20:23:01.256496Z",
     "start_time": "2024-10-24T20:23:01.147262Z"
    }
   },
   "cell_type": "code",
   "source": [
    "# Delete row where is NA in column 'CompTotal' or 'Currency'\n",
    "df = df.dropna(subset=['CompTotal', 'Currency'])\n",
    "\n",
    "# Delete ow where is empty in column 'CompTotal' or Currency\n",
    "df = df[(df['CompTotal'] != '') & (df['Currency'] != '')]"
   ],
   "id": "d729556710db1c61",
   "outputs": [],
   "execution_count": 73
  },
  {
   "metadata": {},
   "cell_type": "markdown",
   "source": [
    "Now we have to convert the values into euros if they are not already in euros.\n",
    "First I change the 'Currency' column so that only the part remains that I need for my conversion"
   ],
   "id": "321381390e73c8f1"
  },
  {
   "metadata": {
    "ExecuteTime": {
     "end_time": "2024-10-24T20:23:02.382479Z",
     "start_time": "2024-10-24T20:23:02.344930Z"
    }
   },
   "cell_type": "code",
   "source": [
    "df['Currency'] = df['Currency'].apply(lambda x: x.strip().split(\"\\t\")[0])\n",
    "df['Currency']"
   ],
   "id": "fd91dcce43629e8f",
   "outputs": [
    {
     "data": {
      "text/plain": [
       "1        USD\n",
       "2        USD\n",
       "3        USD\n",
       "4        PHP\n",
       "5        GBP\n",
       "        ... \n",
       "89175    USD\n",
       "89177    MXN\n",
       "89178    USD\n",
       "89179    BRL\n",
       "89183    IRR\n",
       "Name: Currency, Length: 48225, dtype: object"
      ]
     },
     "execution_count": 74,
     "metadata": {},
     "output_type": "execute_result"
    }
   ],
   "execution_count": 74
  },
  {
   "metadata": {},
   "cell_type": "markdown",
   "source": "I see that it didn't work for EUR. After investigating, I found that the separator here is not a tab but a simple space",
   "id": "ccdd8c698f05a0cb"
  },
  {
   "metadata": {
    "ExecuteTime": {
     "end_time": "2024-10-24T20:23:04.138673Z",
     "start_time": "2024-10-24T20:23:04.100976Z"
    }
   },
   "cell_type": "code",
   "source": [
    "df['Currency'] = df['Currency'].apply(lambda x: x.split(\" \")[0])\n",
    "df['Currency']"
   ],
   "id": "a74cf415e0707ad4",
   "outputs": [
    {
     "data": {
      "text/plain": [
       "1        USD\n",
       "2        USD\n",
       "3        USD\n",
       "4        PHP\n",
       "5        GBP\n",
       "        ... \n",
       "89175    USD\n",
       "89177    MXN\n",
       "89178    USD\n",
       "89179    BRL\n",
       "89183    IRR\n",
       "Name: Currency, Length: 48225, dtype: object"
      ]
     },
     "execution_count": 75,
     "metadata": {},
     "output_type": "execute_result"
    }
   ],
   "execution_count": 75
  },
  {
   "metadata": {},
   "cell_type": "markdown",
   "source": "Now we convert and save the values in a new column",
   "id": "9e5ce349219372ed"
  },
  {
   "metadata": {
    "ExecuteTime": {
     "end_time": "2024-10-24T20:23:08.078865Z",
     "start_time": "2024-10-24T20:23:06.521991Z"
    }
   },
   "cell_type": "code",
   "source": [
    "import requests\n",
    "\n",
    "url_api = 'https://api.exchangerate-api.com/v4/latest/EUR'\n",
    "\n",
    "response = requests.get(url_api)\n",
    "data = response.json()\n",
    "\n",
    "rates = data['rates']\n",
    "\n",
    "def convert_to_euro(currency, value):\n",
    "    if currency in rates:\n",
    "        return value / rates[currency]\n",
    "    else:\n",
    "        return None\n",
    "    \n",
    "df['CompTotal in EUR'] = df.apply(lambda row: convert_to_euro(row['Currency'], row['CompTotal']), axis=1)"
   ],
   "id": "701ffaf192033b76",
   "outputs": [],
   "execution_count": 76
  },
  {
   "metadata": {},
   "cell_type": "markdown",
   "source": "Adjusting the column order",
   "id": "1fc7b4c8fa013986"
  },
  {
   "metadata": {
    "ExecuteTime": {
     "end_time": "2024-10-24T20:23:11.161330Z",
     "start_time": "2024-10-24T20:23:11.151175Z"
    }
   },
   "cell_type": "code",
   "source": [
    "columns = df.columns.tolist()\n",
    "columns"
   ],
   "id": "f9acf583d7e396fb",
   "outputs": [
    {
     "data": {
      "text/plain": [
       "['ResponseId',\n",
       " 'Q120',\n",
       " 'MainBranch',\n",
       " 'Age',\n",
       " 'Employment',\n",
       " 'RemoteWork',\n",
       " 'CodingActivities',\n",
       " 'EdLevel',\n",
       " 'LearnCode',\n",
       " 'LearnCodeOnline',\n",
       " 'LearnCodeCoursesCert',\n",
       " 'YearsCode',\n",
       " 'YearsCodePro',\n",
       " 'DevType',\n",
       " 'OrgSize',\n",
       " 'PurchaseInfluence',\n",
       " 'TechList',\n",
       " 'BuyNewTool',\n",
       " 'Country',\n",
       " 'Currency',\n",
       " 'CompTotal',\n",
       " 'LanguageHaveWorkedWith',\n",
       " 'LanguageWantToWorkWith',\n",
       " 'DatabaseHaveWorkedWith',\n",
       " 'DatabaseWantToWorkWith',\n",
       " 'PlatformHaveWorkedWith',\n",
       " 'PlatformWantToWorkWith',\n",
       " 'WebframeHaveWorkedWith',\n",
       " 'WebframeWantToWorkWith',\n",
       " 'MiscTechHaveWorkedWith',\n",
       " 'MiscTechWantToWorkWith',\n",
       " 'ToolsTechHaveWorkedWith',\n",
       " 'ToolsTechWantToWorkWith',\n",
       " 'NEWCollabToolsHaveWorkedWith',\n",
       " 'NEWCollabToolsWantToWorkWith',\n",
       " 'OpSysPersonal use',\n",
       " 'OpSysProfessional use',\n",
       " 'OfficeStackAsyncHaveWorkedWith',\n",
       " 'OfficeStackAsyncWantToWorkWith',\n",
       " 'OfficeStackSyncHaveWorkedWith',\n",
       " 'OfficeStackSyncWantToWorkWith',\n",
       " 'AISearchHaveWorkedWith',\n",
       " 'AISearchWantToWorkWith',\n",
       " 'AIDevHaveWorkedWith',\n",
       " 'AIDevWantToWorkWith',\n",
       " 'NEWSOSites',\n",
       " 'SOVisitFreq',\n",
       " 'SOAccount',\n",
       " 'SOPartFreq',\n",
       " 'SOComm',\n",
       " 'SOAI',\n",
       " 'AISelect',\n",
       " 'AISent',\n",
       " 'AIAcc',\n",
       " 'AIBen',\n",
       " 'AIToolInterested in Using',\n",
       " 'AIToolCurrently Using',\n",
       " 'AIToolNot interested in Using',\n",
       " 'AINextVery different',\n",
       " 'AINextNeither different nor similar',\n",
       " 'AINextSomewhat similar',\n",
       " 'AINextVery similar',\n",
       " 'AINextSomewhat different',\n",
       " 'TBranch',\n",
       " 'ICorPM',\n",
       " 'WorkExp',\n",
       " 'Knowledge_1',\n",
       " 'Knowledge_2',\n",
       " 'Knowledge_3',\n",
       " 'Knowledge_4',\n",
       " 'Knowledge_5',\n",
       " 'Knowledge_6',\n",
       " 'Knowledge_7',\n",
       " 'Knowledge_8',\n",
       " 'Frequency_1',\n",
       " 'Frequency_2',\n",
       " 'Frequency_3',\n",
       " 'TimeSearching',\n",
       " 'TimeAnswering',\n",
       " 'ProfessionalTech',\n",
       " 'Industry',\n",
       " 'SurveyLength',\n",
       " 'SurveyEase',\n",
       " 'ConvertedCompYearly',\n",
       " 'CompTotal in EUR']"
      ]
     },
     "execution_count": 77,
     "metadata": {},
     "output_type": "execute_result"
    }
   ],
   "execution_count": 77
  },
  {
   "metadata": {},
   "cell_type": "markdown",
   "source": "I copied the list and I'm now changing the order",
   "id": "a8d268de9ced9509"
  },
  {
   "metadata": {
    "ExecuteTime": {
     "end_time": "2024-10-24T20:23:13.728668Z",
     "start_time": "2024-10-24T20:23:13.656089Z"
    }
   },
   "cell_type": "code",
   "source": [
    "new_order = ['ResponseId',\n",
    " 'Q120',\n",
    " 'MainBranch',\n",
    " 'Age',\n",
    " 'Employment',\n",
    " 'RemoteWork',\n",
    " 'CodingActivities',\n",
    " 'EdLevel',\n",
    " 'LearnCode',\n",
    " 'LearnCodeOnline',\n",
    " 'LearnCodeCoursesCert',\n",
    " 'YearsCode',\n",
    " 'YearsCodePro',\n",
    " 'DevType',\n",
    " 'OrgSize',\n",
    " 'PurchaseInfluence',\n",
    " 'TechList',\n",
    " 'BuyNewTool',\n",
    " 'Country',\n",
    " 'Currency',\n",
    " 'CompTotal',\n",
    " 'CompTotal in EUR',            \n",
    " 'LanguageHaveWorkedWith',\n",
    " 'LanguageWantToWorkWith',\n",
    " 'DatabaseHaveWorkedWith',\n",
    " 'DatabaseWantToWorkWith',\n",
    " 'PlatformHaveWorkedWith',\n",
    " 'PlatformWantToWorkWith',\n",
    " 'WebframeHaveWorkedWith',\n",
    " 'WebframeWantToWorkWith',\n",
    " 'MiscTechHaveWorkedWith',\n",
    " 'MiscTechWantToWorkWith',\n",
    " 'ToolsTechHaveWorkedWith',\n",
    " 'ToolsTechWantToWorkWith',\n",
    " 'NEWCollabToolsHaveWorkedWith',\n",
    " 'NEWCollabToolsWantToWorkWith',\n",
    " 'OpSysPersonal use',\n",
    " 'OpSysProfessional use',\n",
    " 'OfficeStackAsyncHaveWorkedWith',\n",
    " 'OfficeStackAsyncWantToWorkWith',\n",
    " 'OfficeStackSyncHaveWorkedWith',\n",
    " 'OfficeStackSyncWantToWorkWith',\n",
    " 'AISearchHaveWorkedWith',\n",
    " 'AISearchWantToWorkWith',\n",
    " 'AIDevHaveWorkedWith',\n",
    " 'AIDevWantToWorkWith',\n",
    " 'NEWSOSites',\n",
    " 'SOVisitFreq',\n",
    " 'SOAccount',\n",
    " 'SOPartFreq',\n",
    " 'SOComm',\n",
    " 'SOAI',\n",
    " 'AISelect',\n",
    " 'AISent',\n",
    " 'AIAcc',\n",
    " 'AIBen',\n",
    " 'AIToolInterested in Using',\n",
    " 'AIToolCurrently Using',\n",
    " 'AIToolNot interested in Using',\n",
    " 'AINextVery different',\n",
    " 'AINextNeither different nor similar',\n",
    " 'AINextSomewhat similar',\n",
    " 'AINextVery similar',\n",
    " 'AINextSomewhat different',\n",
    " 'TBranch',\n",
    " 'ICorPM',\n",
    " 'WorkExp',\n",
    " 'Knowledge_1',\n",
    " 'Knowledge_2',\n",
    " 'Knowledge_3',\n",
    " 'Knowledge_4',\n",
    " 'Knowledge_5',\n",
    " 'Knowledge_6',\n",
    " 'Knowledge_7',\n",
    " 'Knowledge_8',\n",
    " 'Frequency_1',\n",
    " 'Frequency_2',\n",
    " 'Frequency_3',\n",
    " 'TimeSearching',\n",
    " 'TimeAnswering',\n",
    " 'ProfessionalTech',\n",
    " 'Industry',\n",
    " 'SurveyLength',\n",
    " 'SurveyEase',\n",
    " 'ConvertedCompYearly']\n",
    "\n",
    "df = df[new_order]"
   ],
   "id": "7ceb557291c5ea71",
   "outputs": [],
   "execution_count": 78
  },
  {
   "metadata": {},
   "cell_type": "markdown",
   "source": [
    "Now we can compare salaries consistently<br><br>\n",
    "We want to find out in which country developers earn the best.<br>\n",
    "In order to obtain a meaningful result, we focus on developers with a bachelor's degree and full time employed<br>\n",
    "and do not impose any further restrictions so as not to go beyond the scope of the project."
   ],
   "id": "9256913905f8c9fb"
  },
  {
   "metadata": {},
   "cell_type": "markdown",
   "source": "We keep the columns which we need for this und delete the rest",
   "id": "259a5a9c888034e5"
  },
  {
   "metadata": {
    "ExecuteTime": {
     "end_time": "2024-10-24T20:23:24.110683Z",
     "start_time": "2024-10-24T20:23:24.073462Z"
    }
   },
   "cell_type": "code",
   "source": [
    "columns_to_keep = ['Employment', 'EdLevel', 'Country','CompTotal in EUR']\n",
    "df = df[columns_to_keep]"
   ],
   "id": "7635db04a7d6f9fe",
   "outputs": [
    {
     "data": {
      "text/plain": [
       "                                              Employment  \\\n",
       "1                                    Employed, full-time   \n",
       "2                                    Employed, full-time   \n",
       "3                                    Employed, full-time   \n",
       "4      Employed, full-time;Independent contractor, fr...   \n",
       "5                                    Employed, full-time   \n",
       "...                                                  ...   \n",
       "89175                                Employed, full-time   \n",
       "89177                                Employed, full-time   \n",
       "89178                                Employed, full-time   \n",
       "89179  Employed, full-time;Independent contractor, fr...   \n",
       "89183                                Employed, full-time   \n",
       "\n",
       "                                                 EdLevel  \\\n",
       "1           Bachelor’s degree (B.A., B.S., B.Eng., etc.)   \n",
       "2           Bachelor’s degree (B.A., B.S., B.Eng., etc.)   \n",
       "3           Bachelor’s degree (B.A., B.S., B.Eng., etc.)   \n",
       "4           Bachelor’s degree (B.A., B.S., B.Eng., etc.)   \n",
       "5      Some college/university study without earning ...   \n",
       "...                                                  ...   \n",
       "89175       Bachelor’s degree (B.A., B.S., B.Eng., etc.)   \n",
       "89177    Master’s degree (M.A., M.S., M.Eng., MBA, etc.)   \n",
       "89178       Bachelor’s degree (B.A., B.S., B.Eng., etc.)   \n",
       "89179                Associate degree (A.A., A.S., etc.)   \n",
       "89183       Bachelor’s degree (B.A., B.S., B.Eng., etc.)   \n",
       "\n",
       "                                                 Country  CompTotal in EUR  \n",
       "1                               United States of America     263888.888889  \n",
       "2                               United States of America     231481.481481  \n",
       "3                               United States of America     144444.444444  \n",
       "4                                            Philippines      21096.372063  \n",
       "5      United Kingdom of Great Britain and Northern I...      93525.179856  \n",
       "...                                                  ...               ...  \n",
       "89175                           United States of America     125000.000000  \n",
       "89177                                             Mexico      46598.322460  \n",
       "89178                           United States of America     196315.740741  \n",
       "89179                                             Brazil      32573.289902  \n",
       "89183                       Iran, Islamic Republic of...      71925.871889  \n",
       "\n",
       "[48225 rows x 4 columns]"
      ],
      "text/html": [
       "<div>\n",
       "<style scoped>\n",
       "    .dataframe tbody tr th:only-of-type {\n",
       "        vertical-align: middle;\n",
       "    }\n",
       "\n",
       "    .dataframe tbody tr th {\n",
       "        vertical-align: top;\n",
       "    }\n",
       "\n",
       "    .dataframe thead th {\n",
       "        text-align: right;\n",
       "    }\n",
       "</style>\n",
       "<table border=\"1\" class=\"dataframe\">\n",
       "  <thead>\n",
       "    <tr style=\"text-align: right;\">\n",
       "      <th></th>\n",
       "      <th>Employment</th>\n",
       "      <th>EdLevel</th>\n",
       "      <th>Country</th>\n",
       "      <th>CompTotal in EUR</th>\n",
       "    </tr>\n",
       "  </thead>\n",
       "  <tbody>\n",
       "    <tr>\n",
       "      <th>1</th>\n",
       "      <td>Employed, full-time</td>\n",
       "      <td>Bachelor’s degree (B.A., B.S., B.Eng., etc.)</td>\n",
       "      <td>United States of America</td>\n",
       "      <td>263888.888889</td>\n",
       "    </tr>\n",
       "    <tr>\n",
       "      <th>2</th>\n",
       "      <td>Employed, full-time</td>\n",
       "      <td>Bachelor’s degree (B.A., B.S., B.Eng., etc.)</td>\n",
       "      <td>United States of America</td>\n",
       "      <td>231481.481481</td>\n",
       "    </tr>\n",
       "    <tr>\n",
       "      <th>3</th>\n",
       "      <td>Employed, full-time</td>\n",
       "      <td>Bachelor’s degree (B.A., B.S., B.Eng., etc.)</td>\n",
       "      <td>United States of America</td>\n",
       "      <td>144444.444444</td>\n",
       "    </tr>\n",
       "    <tr>\n",
       "      <th>4</th>\n",
       "      <td>Employed, full-time;Independent contractor, fr...</td>\n",
       "      <td>Bachelor’s degree (B.A., B.S., B.Eng., etc.)</td>\n",
       "      <td>Philippines</td>\n",
       "      <td>21096.372063</td>\n",
       "    </tr>\n",
       "    <tr>\n",
       "      <th>5</th>\n",
       "      <td>Employed, full-time</td>\n",
       "      <td>Some college/university study without earning ...</td>\n",
       "      <td>United Kingdom of Great Britain and Northern I...</td>\n",
       "      <td>93525.179856</td>\n",
       "    </tr>\n",
       "    <tr>\n",
       "      <th>...</th>\n",
       "      <td>...</td>\n",
       "      <td>...</td>\n",
       "      <td>...</td>\n",
       "      <td>...</td>\n",
       "    </tr>\n",
       "    <tr>\n",
       "      <th>89175</th>\n",
       "      <td>Employed, full-time</td>\n",
       "      <td>Bachelor’s degree (B.A., B.S., B.Eng., etc.)</td>\n",
       "      <td>United States of America</td>\n",
       "      <td>125000.000000</td>\n",
       "    </tr>\n",
       "    <tr>\n",
       "      <th>89177</th>\n",
       "      <td>Employed, full-time</td>\n",
       "      <td>Master’s degree (M.A., M.S., M.Eng., MBA, etc.)</td>\n",
       "      <td>Mexico</td>\n",
       "      <td>46598.322460</td>\n",
       "    </tr>\n",
       "    <tr>\n",
       "      <th>89178</th>\n",
       "      <td>Employed, full-time</td>\n",
       "      <td>Bachelor’s degree (B.A., B.S., B.Eng., etc.)</td>\n",
       "      <td>United States of America</td>\n",
       "      <td>196315.740741</td>\n",
       "    </tr>\n",
       "    <tr>\n",
       "      <th>89179</th>\n",
       "      <td>Employed, full-time;Independent contractor, fr...</td>\n",
       "      <td>Associate degree (A.A., A.S., etc.)</td>\n",
       "      <td>Brazil</td>\n",
       "      <td>32573.289902</td>\n",
       "    </tr>\n",
       "    <tr>\n",
       "      <th>89183</th>\n",
       "      <td>Employed, full-time</td>\n",
       "      <td>Bachelor’s degree (B.A., B.S., B.Eng., etc.)</td>\n",
       "      <td>Iran, Islamic Republic of...</td>\n",
       "      <td>71925.871889</td>\n",
       "    </tr>\n",
       "  </tbody>\n",
       "</table>\n",
       "<p>48225 rows × 4 columns</p>\n",
       "</div>"
      ]
     },
     "execution_count": 79,
     "metadata": {},
     "output_type": "execute_result"
    }
   ],
   "execution_count": 79
  },
  {
   "metadata": {},
   "cell_type": "markdown",
   "source": "Now we filter the data set according to our needs",
   "id": "8e63c7ba1113ee43"
  },
  {
   "metadata": {
    "ExecuteTime": {
     "end_time": "2024-10-24T20:28:10.515004Z",
     "start_time": "2024-10-24T20:28:10.486571Z"
    }
   },
   "cell_type": "code",
   "source": "df = df.dropna()",
   "id": "7bdaea603d0179db",
   "outputs": [],
   "execution_count": 82
  },
  {
   "metadata": {
    "ExecuteTime": {
     "end_time": "2024-10-24T20:30:58.700253Z",
     "start_time": "2024-10-24T20:30:58.690311Z"
    }
   },
   "cell_type": "code",
   "source": "df = df[df['EdLevel'].isin(['Bachelor’s degree (B.A., B.S., B.Eng., etc.)'])]",
   "id": "6ba70003280eff2c",
   "outputs": [],
   "execution_count": 84
  },
  {
   "metadata": {
    "ExecuteTime": {
     "end_time": "2024-10-24T20:32:32.857775Z",
     "start_time": "2024-10-24T20:32:32.844832Z"
    }
   },
   "cell_type": "code",
   "source": "df = df[df['Employment'] == 'Employed, full-time']",
   "id": "5a3c538876b021e",
   "outputs": [],
   "execution_count": 86
  }
 ],
 "metadata": {
  "kernelspec": {
   "display_name": "Python 3",
   "language": "python",
   "name": "python3"
  },
  "language_info": {
   "codemirror_mode": {
    "name": "ipython",
    "version": 2
   },
   "file_extension": ".py",
   "mimetype": "text/x-python",
   "name": "python",
   "nbconvert_exporter": "python",
   "pygments_lexer": "ipython2",
   "version": "2.7.6"
  }
 },
 "nbformat": 4,
 "nbformat_minor": 5
}

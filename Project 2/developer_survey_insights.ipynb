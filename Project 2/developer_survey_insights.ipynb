{
 "cells": [
  {
   "metadata": {},
   "cell_type": "markdown",
   "source": [
    "## Overview\n",
    "\n",
    "In this project, we will conduct a data analysis using the Stack Overflow Annual Developer Survey dataset. Our goal is to answer the following questions:\n",
    "\n",
    "1. In which country do developers earn the most?\n",
    "2. How important is remote working for workers?\n",
    "3. How much influence does coding experience have on salary?\n",
    "4. Do individuals with a master's degree have a better chance of securing a job as a developer?"
   ],
   "id": "83dd10df02cfc479"
  },
  {
   "metadata": {
    "ExecuteTime": {
     "end_time": "2024-10-24T21:12:50.307220Z",
     "start_time": "2024-10-24T21:12:47.911531Z"
    }
   },
   "cell_type": "code",
   "source": [
    "from locale import currency\n",
    "\n",
    "import pandas as pd\n",
    "from numpy.lib.shape_base import column_stack\n",
    "\n",
    "df = pd.read_csv('dataset/survey_results_public.csv')"
   ],
   "id": "2004a1f258461c77",
   "outputs": [],
   "execution_count": 193
  },
  {
   "metadata": {},
   "cell_type": "markdown",
   "source": [
    "### In which country do developers earn the most?\n",
    "First I look for a column that gives me information about the salary"
   ],
   "id": "ed2919c00997617b"
  },
  {
   "metadata": {
    "ExecuteTime": {
     "end_time": "2024-10-24T21:12:50.328615Z",
     "start_time": "2024-10-24T21:12:50.307220Z"
    }
   },
   "cell_type": "code",
   "source": "df['CompTotal'].head()",
   "id": "7f2eba1ed62db4e7",
   "outputs": [
    {
     "data": {
      "text/plain": [
       "0          NaN\n",
       "1     285000.0\n",
       "2     250000.0\n",
       "3     156000.0\n",
       "4    1320000.0\n",
       "Name: CompTotal, dtype: float64"
      ]
     },
     "execution_count": 194,
     "metadata": {},
     "output_type": "execute_result"
    }
   ],
   "execution_count": 194
  },
  {
   "metadata": {},
   "cell_type": "markdown",
   "source": "This column shows us total income. However, these are given in different currencies. I need information about which currency it is.",
   "id": "9f259555614b1a9f"
  },
  {
   "metadata": {
    "ExecuteTime": {
     "end_time": "2024-10-24T21:12:50.430813Z",
     "start_time": "2024-10-24T21:12:50.421750Z"
    }
   },
   "cell_type": "code",
   "source": "df['Currency'].head()",
   "id": "ec21371ae98388c0",
   "outputs": [
    {
     "data": {
      "text/plain": [
       "0                          NaN\n",
       "1    USD\\tUnited States dollar\n",
       "2    USD\\tUnited States dollar\n",
       "3    USD\\tUnited States dollar\n",
       "4         PHP\\tPhilippine peso\n",
       "Name: Currency, dtype: object"
      ]
     },
     "execution_count": 195,
     "metadata": {},
     "output_type": "execute_result"
    }
   ],
   "execution_count": 195
  },
  {
   "metadata": {},
   "cell_type": "markdown",
   "source": [
    "This column can be used to determine which currency it is. We want a uniform result, so we will convert the total earnings into euros.\n",
    "Rows that have no values ​​in one of the two columns are deleted"
   ],
   "id": "a7242126897c6d21"
  },
  {
   "metadata": {
    "ExecuteTime": {
     "end_time": "2024-10-24T21:12:50.656997Z",
     "start_time": "2024-10-24T21:12:50.539072Z"
    }
   },
   "cell_type": "code",
   "source": [
    "# Delete row where is NA in column 'CompTotal' or 'Currency'\n",
    "df = df.dropna(subset=['CompTotal', 'Currency'])\n",
    "\n",
    "# Delete ow where is empty in column 'CompTotal' or Currency\n",
    "df = df[(df['CompTotal'] != '') & (df['Currency'] != '')]"
   ],
   "id": "d729556710db1c61",
   "outputs": [],
   "execution_count": 196
  },
  {
   "metadata": {},
   "cell_type": "markdown",
   "source": [
    "Now we have to convert the values into euros if they are not already in euros.\n",
    "First I change the 'Currency' column so that only the part remains that I need for my conversion"
   ],
   "id": "321381390e73c8f1"
  },
  {
   "metadata": {
    "ExecuteTime": {
     "end_time": "2024-10-24T21:12:50.736748Z",
     "start_time": "2024-10-24T21:12:50.701164Z"
    }
   },
   "cell_type": "code",
   "source": [
    "df['Currency'] = df['Currency'].apply(lambda x: x.strip().split(\"\\t\")[0])\n",
    "df['Currency']"
   ],
   "id": "fd91dcce43629e8f",
   "outputs": [
    {
     "data": {
      "text/plain": [
       "1        USD\n",
       "2        USD\n",
       "3        USD\n",
       "4        PHP\n",
       "5        GBP\n",
       "        ... \n",
       "89175    USD\n",
       "89177    MXN\n",
       "89178    USD\n",
       "89179    BRL\n",
       "89183    IRR\n",
       "Name: Currency, Length: 48225, dtype: object"
      ]
     },
     "execution_count": 197,
     "metadata": {},
     "output_type": "execute_result"
    }
   ],
   "execution_count": 197
  },
  {
   "metadata": {},
   "cell_type": "markdown",
   "source": "I see that it didn't work for EUR. After investigating, I found that the separator here is not a tab but a simple space",
   "id": "ccdd8c698f05a0cb"
  },
  {
   "metadata": {
    "ExecuteTime": {
     "end_time": "2024-10-24T21:12:50.845108Z",
     "start_time": "2024-10-24T21:12:50.804734Z"
    }
   },
   "cell_type": "code",
   "source": [
    "df['Currency'] = df['Currency'].apply(lambda x: x.split(\" \")[0])\n",
    "df['Currency']"
   ],
   "id": "a74cf415e0707ad4",
   "outputs": [
    {
     "data": {
      "text/plain": [
       "1        USD\n",
       "2        USD\n",
       "3        USD\n",
       "4        PHP\n",
       "5        GBP\n",
       "        ... \n",
       "89175    USD\n",
       "89177    MXN\n",
       "89178    USD\n",
       "89179    BRL\n",
       "89183    IRR\n",
       "Name: Currency, Length: 48225, dtype: object"
      ]
     },
     "execution_count": 198,
     "metadata": {},
     "output_type": "execute_result"
    }
   ],
   "execution_count": 198
  },
  {
   "metadata": {},
   "cell_type": "markdown",
   "source": "Now we convert and save the values in a new column",
   "id": "9e5ce349219372ed"
  },
  {
   "metadata": {
    "ExecuteTime": {
     "end_time": "2024-10-24T21:12:52.621921Z",
     "start_time": "2024-10-24T21:12:51.008731Z"
    }
   },
   "cell_type": "code",
   "source": [
    "import requests\n",
    "\n",
    "url_api = 'https://api.exchangerate-api.com/v4/latest/EUR'\n",
    "\n",
    "response = requests.get(url_api)\n",
    "data = response.json()\n",
    "\n",
    "rates = data['rates']\n",
    "\n",
    "def convert_to_euro(currency, value):\n",
    "    if currency in rates:\n",
    "        return value / rates[currency]\n",
    "    else:\n",
    "        return None\n",
    "    \n",
    "df['CompTotal in EUR'] = df.apply(lambda row: convert_to_euro(row['Currency'], row['CompTotal']), axis=1)"
   ],
   "id": "701ffaf192033b76",
   "outputs": [],
   "execution_count": 199
  },
  {
   "metadata": {},
   "cell_type": "markdown",
   "source": "Adjusting the column order",
   "id": "1fc7b4c8fa013986"
  },
  {
   "metadata": {
    "ExecuteTime": {
     "end_time": "2024-10-24T21:12:52.672404Z",
     "start_time": "2024-10-24T21:12:52.662042Z"
    }
   },
   "cell_type": "code",
   "source": [
    "columns = df.columns.tolist()\n",
    "columns"
   ],
   "id": "f9acf583d7e396fb",
   "outputs": [
    {
     "data": {
      "text/plain": [
       "['ResponseId',\n",
       " 'Q120',\n",
       " 'MainBranch',\n",
       " 'Age',\n",
       " 'Employment',\n",
       " 'RemoteWork',\n",
       " 'CodingActivities',\n",
       " 'EdLevel',\n",
       " 'LearnCode',\n",
       " 'LearnCodeOnline',\n",
       " 'LearnCodeCoursesCert',\n",
       " 'YearsCode',\n",
       " 'YearsCodePro',\n",
       " 'DevType',\n",
       " 'OrgSize',\n",
       " 'PurchaseInfluence',\n",
       " 'TechList',\n",
       " 'BuyNewTool',\n",
       " 'Country',\n",
       " 'Currency',\n",
       " 'CompTotal',\n",
       " 'LanguageHaveWorkedWith',\n",
       " 'LanguageWantToWorkWith',\n",
       " 'DatabaseHaveWorkedWith',\n",
       " 'DatabaseWantToWorkWith',\n",
       " 'PlatformHaveWorkedWith',\n",
       " 'PlatformWantToWorkWith',\n",
       " 'WebframeHaveWorkedWith',\n",
       " 'WebframeWantToWorkWith',\n",
       " 'MiscTechHaveWorkedWith',\n",
       " 'MiscTechWantToWorkWith',\n",
       " 'ToolsTechHaveWorkedWith',\n",
       " 'ToolsTechWantToWorkWith',\n",
       " 'NEWCollabToolsHaveWorkedWith',\n",
       " 'NEWCollabToolsWantToWorkWith',\n",
       " 'OpSysPersonal use',\n",
       " 'OpSysProfessional use',\n",
       " 'OfficeStackAsyncHaveWorkedWith',\n",
       " 'OfficeStackAsyncWantToWorkWith',\n",
       " 'OfficeStackSyncHaveWorkedWith',\n",
       " 'OfficeStackSyncWantToWorkWith',\n",
       " 'AISearchHaveWorkedWith',\n",
       " 'AISearchWantToWorkWith',\n",
       " 'AIDevHaveWorkedWith',\n",
       " 'AIDevWantToWorkWith',\n",
       " 'NEWSOSites',\n",
       " 'SOVisitFreq',\n",
       " 'SOAccount',\n",
       " 'SOPartFreq',\n",
       " 'SOComm',\n",
       " 'SOAI',\n",
       " 'AISelect',\n",
       " 'AISent',\n",
       " 'AIAcc',\n",
       " 'AIBen',\n",
       " 'AIToolInterested in Using',\n",
       " 'AIToolCurrently Using',\n",
       " 'AIToolNot interested in Using',\n",
       " 'AINextVery different',\n",
       " 'AINextNeither different nor similar',\n",
       " 'AINextSomewhat similar',\n",
       " 'AINextVery similar',\n",
       " 'AINextSomewhat different',\n",
       " 'TBranch',\n",
       " 'ICorPM',\n",
       " 'WorkExp',\n",
       " 'Knowledge_1',\n",
       " 'Knowledge_2',\n",
       " 'Knowledge_3',\n",
       " 'Knowledge_4',\n",
       " 'Knowledge_5',\n",
       " 'Knowledge_6',\n",
       " 'Knowledge_7',\n",
       " 'Knowledge_8',\n",
       " 'Frequency_1',\n",
       " 'Frequency_2',\n",
       " 'Frequency_3',\n",
       " 'TimeSearching',\n",
       " 'TimeAnswering',\n",
       " 'ProfessionalTech',\n",
       " 'Industry',\n",
       " 'SurveyLength',\n",
       " 'SurveyEase',\n",
       " 'ConvertedCompYearly',\n",
       " 'CompTotal in EUR']"
      ]
     },
     "execution_count": 200,
     "metadata": {},
     "output_type": "execute_result"
    }
   ],
   "execution_count": 200
  },
  {
   "metadata": {},
   "cell_type": "markdown",
   "source": "I copied the list and I'm now changing the order",
   "id": "a8d268de9ced9509"
  },
  {
   "metadata": {
    "ExecuteTime": {
     "end_time": "2024-10-24T21:12:52.773497Z",
     "start_time": "2024-10-24T21:12:52.688033Z"
    }
   },
   "cell_type": "code",
   "source": [
    "new_order = ['ResponseId',\n",
    " 'Q120',\n",
    " 'MainBranch',\n",
    " 'Age',\n",
    " 'Employment',\n",
    " 'RemoteWork',\n",
    " 'CodingActivities',\n",
    " 'EdLevel',\n",
    " 'LearnCode',\n",
    " 'LearnCodeOnline',\n",
    " 'LearnCodeCoursesCert',\n",
    " 'YearsCode',\n",
    " 'YearsCodePro',\n",
    " 'DevType',\n",
    " 'OrgSize',\n",
    " 'PurchaseInfluence',\n",
    " 'TechList',\n",
    " 'BuyNewTool',\n",
    " 'Country',\n",
    " 'Currency',\n",
    " 'CompTotal',\n",
    " 'CompTotal in EUR',            \n",
    " 'LanguageHaveWorkedWith',\n",
    " 'LanguageWantToWorkWith',\n",
    " 'DatabaseHaveWorkedWith',\n",
    " 'DatabaseWantToWorkWith',\n",
    " 'PlatformHaveWorkedWith',\n",
    " 'PlatformWantToWorkWith',\n",
    " 'WebframeHaveWorkedWith',\n",
    " 'WebframeWantToWorkWith',\n",
    " 'MiscTechHaveWorkedWith',\n",
    " 'MiscTechWantToWorkWith',\n",
    " 'ToolsTechHaveWorkedWith',\n",
    " 'ToolsTechWantToWorkWith',\n",
    " 'NEWCollabToolsHaveWorkedWith',\n",
    " 'NEWCollabToolsWantToWorkWith',\n",
    " 'OpSysPersonal use',\n",
    " 'OpSysProfessional use',\n",
    " 'OfficeStackAsyncHaveWorkedWith',\n",
    " 'OfficeStackAsyncWantToWorkWith',\n",
    " 'OfficeStackSyncHaveWorkedWith',\n",
    " 'OfficeStackSyncWantToWorkWith',\n",
    " 'AISearchHaveWorkedWith',\n",
    " 'AISearchWantToWorkWith',\n",
    " 'AIDevHaveWorkedWith',\n",
    " 'AIDevWantToWorkWith',\n",
    " 'NEWSOSites',\n",
    " 'SOVisitFreq',\n",
    " 'SOAccount',\n",
    " 'SOPartFreq',\n",
    " 'SOComm',\n",
    " 'SOAI',\n",
    " 'AISelect',\n",
    " 'AISent',\n",
    " 'AIAcc',\n",
    " 'AIBen',\n",
    " 'AIToolInterested in Using',\n",
    " 'AIToolCurrently Using',\n",
    " 'AIToolNot interested in Using',\n",
    " 'AINextVery different',\n",
    " 'AINextNeither different nor similar',\n",
    " 'AINextSomewhat similar',\n",
    " 'AINextVery similar',\n",
    " 'AINextSomewhat different',\n",
    " 'TBranch',\n",
    " 'ICorPM',\n",
    " 'WorkExp',\n",
    " 'Knowledge_1',\n",
    " 'Knowledge_2',\n",
    " 'Knowledge_3',\n",
    " 'Knowledge_4',\n",
    " 'Knowledge_5',\n",
    " 'Knowledge_6',\n",
    " 'Knowledge_7',\n",
    " 'Knowledge_8',\n",
    " 'Frequency_1',\n",
    " 'Frequency_2',\n",
    " 'Frequency_3',\n",
    " 'TimeSearching',\n",
    " 'TimeAnswering',\n",
    " 'ProfessionalTech',\n",
    " 'Industry',\n",
    " 'SurveyLength',\n",
    " 'SurveyEase',\n",
    " 'ConvertedCompYearly']\n",
    "\n",
    "df = df[new_order]"
   ],
   "id": "7ceb557291c5ea71",
   "outputs": [],
   "execution_count": 201
  },
  {
   "metadata": {},
   "cell_type": "markdown",
   "source": [
    "Now we can compare salaries consistently<br><br>\n",
    "We want to find out in which country developers earn the best.<br>\n",
    "In order to obtain a meaningful result, we focus on developers with a bachelor's degree and full time employed<br>\n",
    "and do not impose any further restrictions so as not to go beyond the scope of the project."
   ],
   "id": "9256913905f8c9fb"
  },
  {
   "metadata": {},
   "cell_type": "markdown",
   "source": "We keep the columns which we need for this und delete the rest",
   "id": "259a5a9c888034e5"
  },
  {
   "metadata": {
    "ExecuteTime": {
     "end_time": "2024-10-24T21:12:52.844015Z",
     "start_time": "2024-10-24T21:12:52.816633Z"
    }
   },
   "cell_type": "code",
   "source": [
    "columns_to_keep = ['Employment', 'EdLevel', 'Country','CompTotal in EUR']\n",
    "df = df[columns_to_keep]"
   ],
   "id": "7635db04a7d6f9fe",
   "outputs": [],
   "execution_count": 202
  },
  {
   "metadata": {},
   "cell_type": "markdown",
   "source": "Now we filter the data set according to our needs",
   "id": "8e63c7ba1113ee43"
  },
  {
   "metadata": {
    "ExecuteTime": {
     "end_time": "2024-10-24T21:12:52.881027Z",
     "start_time": "2024-10-24T21:12:52.860353Z"
    }
   },
   "cell_type": "code",
   "source": "df = df.dropna()",
   "id": "7bdaea603d0179db",
   "outputs": [],
   "execution_count": 203
  },
  {
   "metadata": {
    "ExecuteTime": {
     "end_time": "2024-10-24T21:12:52.925227Z",
     "start_time": "2024-10-24T21:12:52.912969Z"
    }
   },
   "cell_type": "code",
   "source": "df = df[df['EdLevel'].isin(['Bachelor’s degree (B.A., B.S., B.Eng., etc.)'])]",
   "id": "6ba70003280eff2c",
   "outputs": [],
   "execution_count": 204
  },
  {
   "metadata": {
    "ExecuteTime": {
     "end_time": "2024-10-24T21:12:52.939468Z",
     "start_time": "2024-10-24T21:12:52.925227Z"
    }
   },
   "cell_type": "code",
   "source": "df = df[df['Employment'] == 'Employed, full-time']",
   "id": "5a3c538876b021e",
   "outputs": [],
   "execution_count": 205
  },
  {
   "metadata": {
    "ExecuteTime": {
     "end_time": "2024-10-24T21:12:52.961095Z",
     "start_time": "2024-10-24T21:12:52.953901Z"
    }
   },
   "cell_type": "code",
   "source": [
    "columns_to_keep = ['Country', 'CompTotal in EUR']\n",
    "df = df[columns_to_keep]"
   ],
   "id": "6513f0bb27372403",
   "outputs": [],
   "execution_count": 206
  },
  {
   "metadata": {},
   "cell_type": "markdown",
   "source": "I make sure that the data is complete",
   "id": "c5743ef7c9f18b9"
  },
  {
   "metadata": {
    "ExecuteTime": {
     "end_time": "2024-10-24T21:12:52.990188Z",
     "start_time": "2024-10-24T21:12:52.976234Z"
    }
   },
   "cell_type": "code",
   "source": "print(df[['Country', 'CompTotal in EUR']].isnull().sum())",
   "id": "592f50aba06489ab",
   "outputs": [
    {
     "name": "stdout",
     "output_type": "stream",
     "text": [
      "Country             0\n",
      "CompTotal in EUR    0\n",
      "dtype: int64\n"
     ]
    }
   ],
   "execution_count": 207
  },
  {
   "metadata": {},
   "cell_type": "markdown",
   "source": [
    "everything seems fine<br><br>\n",
    "Calculate average salary per country"
   ],
   "id": "1a35ce619fdf8751"
  },
  {
   "metadata": {
    "ExecuteTime": {
     "end_time": "2024-10-24T21:12:53.135987Z",
     "start_time": "2024-10-24T21:12:53.102201Z"
    }
   },
   "cell_type": "code",
   "source": [
    "df = df.groupby(['Country'])['CompTotal in EUR'].mean().sort_values(ascending=False)\n",
    "df.head(10)"
   ],
   "id": "db621287c19f1404",
   "outputs": [
    {
     "data": {
      "text/plain": [
       "Country\n",
       "Iran, Islamic Republic of...    2.369100e+14\n",
       "Romania                         1.468666e+13\n",
       "Afghanistan                     1.577023e+06\n",
       "Andorra                         2.700000e+05\n",
       "United States of America        1.538049e+05\n",
       "Luxembourg                      1.512500e+05\n",
       "Switzerland                     1.280629e+05\n",
       "New Zealand                     1.169306e+05\n",
       "Israel                          1.084962e+05\n",
       "Canada                          1.011085e+05\n",
       "Name: CompTotal in EUR, dtype: float64"
      ]
     },
     "execution_count": 208,
     "metadata": {},
     "output_type": "execute_result"
    }
   ],
   "execution_count": 208
  }
 ],
 "metadata": {
  "kernelspec": {
   "display_name": "Python 3",
   "language": "python",
   "name": "python3"
  },
  "language_info": {
   "codemirror_mode": {
    "name": "ipython",
    "version": 2
   },
   "file_extension": ".py",
   "mimetype": "text/x-python",
   "name": "python",
   "nbconvert_exporter": "python",
   "pygments_lexer": "ipython2",
   "version": "2.7.6"
  }
 },
 "nbformat": 4,
 "nbformat_minor": 5
}
